{
 "cells": [
  {
   "cell_type": "code",
   "execution_count": 1,
   "metadata": {
    "collapsed": true
   },
   "outputs": [],
   "source": [
    "from __future__ import absolute_import\n",
    "from __future__ import division\n",
    "from __future__ import print_function\n",
    "\n",
    "import os.path\n",
    "import time\n",
    "import tensorflow as tf"
   ]
  },
  {
   "cell_type": "code",
   "execution_count": 2,
   "metadata": {
    "collapsed": false
   },
   "outputs": [],
   "source": [
    "flags = tf.app.flags\n",
    "FLAGS = flags.FLAGS\n",
    "flags.DEFINE_float('learning_rate', 0.01, 'Initial learning rate.')\n",
    "flags.DEFINE_integer('num_epochs', 2, 'Number of epochs to run trainer.')\n",
    "flags.DEFINE_integer('batch_size', 128, 'Batch size.')\n",
    "flags.DEFINE_string('train_dir', '/data', 'Directory with the training data.')"
   ]
  },
  {
   "cell_type": "code",
   "execution_count": 7,
   "metadata": {
    "collapsed": true
   },
   "outputs": [],
   "source": [
    "TRAIN_FILE = \"tf-records.data\"\n",
    "VAL_FILE = \"\""
   ]
  },
  {
   "cell_type": "code",
   "execution_count": 8,
   "metadata": {
    "collapsed": true
   },
   "outputs": [],
   "source": [
    "def extract_features(serialized_example):\n",
    "    \"\"\"\n",
    "    Extracts a `dict` of named features from the serialized `tf.train.Example`\n",
    "    \"\"\"\n",
    "    return tf.parse_single_example(\n",
    "        serialized=serialized_example,\n",
    "        features={\n",
    "            'label': tf.FixedLenFeature([99], dtype=tf.int64),\n",
    "            'input': tf.FixedLenFeature([20,111], dtype=tf.int64),\n",
    "        }\n",
    "    )\n",
    "\n",
    "def deserialize_example(serialized_example):\n",
    "    \"\"\"\n",
    "    Converts a serialized `tf.train.Example` to FP32 Tensors\n",
    "    \"\"\"\n",
    "    features = extract_features(serialized_example)\n",
    "    input = tf.cast(features['input'], tf.float32)\n",
    "    label = tf.cast(features['label'], tf.float32)\n",
    "    return input, label\n",
    "\n",
    "def read_and_decode(filename_queue):\n",
    "    \"\"\"\n",
    "    Read and Deserialize a single `tf.train.Example` from a TFRecord file.\n",
    "    \"\"\"\n",
    "    reader = tf.TFRecordReader()\n",
    "    _, serialized_example = reader.read(filename_queue)\n",
    "    return deserialize_example(serialized_example)"
   ]
  },
  {
   "cell_type": "code",
   "execution_count": 13,
   "metadata": {
    "collapsed": false
   },
   "outputs": [],
   "source": [
    "def inputs(batch_size=None, num_epochs=None, train=True):\n",
    "    \"\"\"\n",
    "    Read in shuffled `inputs` and `labels` from either train or val files.\n",
    "    \n",
    "    Returns:\n",
    "        `inputs` : [batch_size, 20, 111]\n",
    "        `labels` : [batch_size, 99]\n",
    "    \"\"\"\n",
    "    batch_size = batch_size or 128\n",
    "    num_epochs = num_epochs or 1\n",
    "    \n",
    "    filename = os.path.join(FLAGS.train_dir, TRAIN_FILE if train else VALIDATION_FILE)\n",
    "    print(filename)\n",
    "    \n",
    "    with tf.name_scope('input'):\n",
    "        filename_queue = tf.train.string_input_producer([filename], num_epochs=num_epochs)\n",
    "        input, label = read_and_decode(filename_queue)\n",
    "        inputs, labels = tf.train.shuffle_batch(\n",
    "            [input, label], batch_size=batch_size, num_threads=2,\n",
    "            capacity=1000 + 3 * batch_size,\n",
    "            # Ensures a minimum amount of shuffling of examples.\n",
    "            min_after_dequeue=1000\n",
    "        )\n",
    "        return inputs, labels"
   ]
  },
  {
   "cell_type": "markdown",
   "metadata": {},
   "source": [
    "## Test Reading Input\n",
    "\n",
    "The following code block reads the first batch of input data and print out the details."
   ]
  },
  {
   "cell_type": "code",
   "execution_count": 15,
   "metadata": {
    "collapsed": false
   },
   "outputs": [
    {
     "name": "stdout",
     "output_type": "stream",
     "text": [
      "/data/tf-records.data\n",
      "Tensor(\"input_2/shuffle_batch:0\", shape=(4, 20, 111), dtype=float32)\n",
      "Tensor(\"input_2/shuffle_batch:1\", shape=(4, 99), dtype=float32)\n"
     ]
    }
   ],
   "source": [
    "with tf.Session() as sess:\n",
    "    input, label = inputs(batch_size=4, num_epochs=1)\n",
    "    #filename = os.path.join(FLAGS.train_dir, TRAIN_FILE if True else VALIDATION_FILE)\n",
    "    #filename_queue = tf.train.string_input_producer([filename], num_epochs=1)\n",
    "    #input, label = read_and_decode(filename_queue)\n",
    "    init_op = tf.initialize_all_variables()\n",
    "    local_op = tf.initialize_local_variables()\n",
    "    sess.run(init_op)\n",
    "    sess.run(local_op)\n",
    "    coord = tf.train.Coordinator()\n",
    "    threads = tf.train.start_queue_runners(coord=coord)\n",
    "    \n",
    "    try:\n",
    "        example = sess.run([input, label])\n",
    "        print(input)\n",
    "        print(label)\n",
    "    except OutOfRangeError, e:\n",
    "        print(\"out of range\")\n",
    "        coord.request_stop(e)\n",
    "    finally:\n",
    "        coord.request_stop()\n",
    "        coord.join(threads)"
   ]
  },
  {
   "cell_type": "code",
   "execution_count": null,
   "metadata": {
    "collapsed": true
   },
   "outputs": [],
   "source": []
  }
 ],
 "metadata": {
  "kernelspec": {
   "display_name": "Python 2",
   "language": "python",
   "name": "python2"
  },
  "language_info": {
   "codemirror_mode": {
    "name": "ipython",
    "version": 2
   },
   "file_extension": ".py",
   "mimetype": "text/x-python",
   "name": "python",
   "nbconvert_exporter": "python",
   "pygments_lexer": "ipython2",
   "version": "2.7.6"
  }
 },
 "nbformat": 4,
 "nbformat_minor": 1
}
