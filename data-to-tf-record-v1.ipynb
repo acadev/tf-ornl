{
 "cells": [
  {
   "cell_type": "markdown",
   "metadata": {},
   "source": [
    "# Pickle to TFRecord\n",
    "\n",
    "This notebook converts the original pickled data into TensorFlow records."
   ]
  },
  {
   "cell_type": "code",
   "execution_count": null,
   "metadata": {
    "collapsed": true
   },
   "outputs": [],
   "source": [
    "import cPickle\n",
    "import datetime\n",
    "import os"
   ]
  },
  {
   "cell_type": "markdown",
   "metadata": {},
   "source": [
    "This next step loads the entire data set into system memory.  This may fail on small memory systems.  A 32GB workstations fail."
   ]
  },
  {
   "cell_type": "code",
   "execution_count": null,
   "metadata": {
    "collapsed": false
   },
   "outputs": [],
   "source": [
    "# load data from pickle\n",
    "f = open( 'data.pkl', 'r' )\n",
    "\n",
    "classes = cPickle.load( f )\n",
    "chars = cPickle.load( f )\n",
    "char_indices = cPickle.load( f )\n",
    "indices_char = cPickle.load( f )\n",
    "\n",
    "maxlen = cPickle.load( f )\n",
    "step = cPickle.load( f )\n",
    "\n",
    "X = cPickle.load( f )\n",
    "y = cPickle.load( f )\n",
    "\n",
    "f.close()"
   ]
  },
  {
   "cell_type": "markdown",
   "metadata": {},
   "source": [
    "## Data\n",
    "\n",
    "All sequences in `X` appear to be `99 + 12 = 111` characters in length.  The ground truth `y` is length `99`."
   ]
  },
  {
   "cell_type": "code",
   "execution_count": null,
   "metadata": {
    "collapsed": false
   },
   "outputs": [],
   "source": [
    "X.shape"
   ]
  },
  {
   "cell_type": "code",
   "execution_count": null,
   "metadata": {
    "collapsed": false
   },
   "outputs": [],
   "source": [
    "y.shape"
   ]
  },
  {
   "cell_type": "code",
   "execution_count": null,
   "metadata": {
    "collapsed": false
   },
   "outputs": [],
   "source": [
    "len(classes)"
   ]
  },
  {
   "cell_type": "code",
   "execution_count": null,
   "metadata": {
    "collapsed": false
   },
   "outputs": [],
   "source": [
    "len(chars)"
   ]
  },
  {
   "cell_type": "code",
   "execution_count": null,
   "metadata": {
    "collapsed": false
   },
   "outputs": [],
   "source": [
    "(maxlen, step)"
   ]
  },
  {
   "cell_type": "code",
   "execution_count": null,
   "metadata": {
    "collapsed": false
   },
   "outputs": [],
   "source": [
    "classes"
   ]
  },
  {
   "cell_type": "markdown",
   "metadata": {},
   "source": [
    "## Conversion to Serialized TFRecord\n",
    "\n",
    "This section generates `tf-records.data` from the original `data.pkl` that was loaded into memory.  The record based approach is useful for reducing the size of the stored dataset and running on systems where the data can not be loaded completely into memory."
   ]
  },
  {
   "cell_type": "code",
   "execution_count": null,
   "metadata": {
    "collapsed": true
   },
   "outputs": [],
   "source": [
    "import itertools\n",
    "import tensorflow as tf"
   ]
  },
  {
   "cell_type": "code",
   "execution_count": null,
   "metadata": {
    "collapsed": true
   },
   "outputs": [],
   "source": [
    "def make_example(seq, label):\n",
    "    return tf.train.Example(features=tf.train.Features(feature={\n",
    "        'input': tf.train.Feature(int64_list=tf.train.Int64List(value=seq.astype(int).reshape(-1).tolist())),\n",
    "        'label': tf.train.Feature(int64_list=tf.train.Int64List(value=label.astype(int).tolist())),\n",
    "    }))"
   ]
  },
  {
   "cell_type": "code",
   "execution_count": null,
   "metadata": {
    "collapsed": true
   },
   "outputs": [],
   "source": [
    "!mkdir -p data_00"
   ]
  },
  {
   "cell_type": "code",
   "execution_count": null,
   "metadata": {
    "collapsed": false
   },
   "outputs": [],
   "source": [
    "with open(\"data_v1/records.data\", \"w\") as output:\n",
    "    writer = tf.python_io.TFRecordWriter(output.name)\n",
    "    for input, label in itertools.izip(X,y):\n",
    "        writer.write(make_example(input, label).SerializeToString())\n",
    "    writer.close()"
   ]
  },
  {
   "cell_type": "markdown",
   "metadata": {},
   "source": [
    "## Deserialize TFRecord / Example\n",
    "\n",
    "This sections just shows the use of TFRecords in the compute graph."
   ]
  },
  {
   "cell_type": "code",
   "execution_count": null,
   "metadata": {
    "collapsed": false
   },
   "outputs": [],
   "source": [
    "def extract_features(serialized_example):\n",
    "    \"\"\"\n",
    "    Extracts a `dict` of named features from the serialized `tf.train.Example`\n",
    "    \"\"\"\n",
    "    return tf.parse_single_example(\n",
    "        serialized=serialized_example,\n",
    "        features={\n",
    "            'label': tf.FixedLenFeature([99], dtype=tf.int64),\n",
    "            'input': tf.FixedLenFeature([20,111], dtype=tf.int64),\n",
    "        }\n",
    "    )\n",
    "\n",
    "def deserialize_example(serialized_example):\n",
    "    \"\"\"\n",
    "    Converts a serialized `tf.train.Example` to FP32 Tensors\n",
    "    \"\"\"\n",
    "    features = extract_features(serialized_example)\n",
    "    input = tf.cast(features['input'], tf.float32)\n",
    "    label = tf.cast(features['label'], tf.float32)\n",
    "    return input, label"
   ]
  },
  {
   "cell_type": "markdown",
   "metadata": {
    "collapsed": true
   },
   "source": [
    "### Compute Graph"
   ]
  },
  {
   "cell_type": "code",
   "execution_count": null,
   "metadata": {
    "collapsed": true
   },
   "outputs": [],
   "source": [
    "input = tf.placeholder(tf.string)\n",
    "features, label = deserialize_example(input)"
   ]
  },
  {
   "cell_type": "markdown",
   "metadata": {},
   "source": [
    "### Evaluate the Compute Graph\n",
    "\n",
    "Compute graphs must be evaluated in a `tf.Session`"
   ]
  },
  {
   "cell_type": "code",
   "execution_count": null,
   "metadata": {
    "collapsed": false
   },
   "outputs": [],
   "source": [
    "import numpy as np\n",
    "from random import randint\n",
    "\n",
    "random_index = randint(0, len(X)-1)\n",
    "example = make_example(X[random_index], y[random_index]).SerializeToString()\n",
    "\n",
    "with tf.Session() as sess:\n",
    "    _x, _y = sess.run([features, label], feed_dict={\n",
    "        input: example,\n",
    "    })\n",
    "    assert np.array_equal(_x, X[random_index])\n",
    "    assert np.array_equal(_y, y[random_index])"
   ]
  }
 ],
 "metadata": {
  "kernelspec": {
   "display_name": "Python 2",
   "language": "python",
   "name": "python2"
  },
  "language_info": {
   "codemirror_mode": {
    "name": "ipython",
    "version": 2
   },
   "file_extension": ".py",
   "mimetype": "text/x-python",
   "name": "python",
   "nbconvert_exporter": "python",
   "pygments_lexer": "ipython2",
   "version": "2.7.6"
  }
 },
 "nbformat": 4,
 "nbformat_minor": 1
}
